{
 "cells": [
  {
   "cell_type": "code",
   "execution_count": null,
   "id": "1f90148b-3c72-4143-b5d0-88a7485f7c5b",
   "metadata": {},
   "outputs": [],
   "source": [
    "import os\n",
    "import pandas as pd\n",
    "import digitalhub as dh"
   ]
  },
  {
   "cell_type": "code",
   "execution_count": null,
   "id": "3460aee8-6014-4929-a393-8a11ed6f3db4",
   "metadata": {},
   "outputs": [],
   "source": [
    "project = dh.get_or_create_project('daticomuni')"
   ]
  },
  {
   "cell_type": "code",
   "execution_count": null,
   "id": "03a2170a-31fc-4ed4-8f6b-8546da51c4c8",
   "metadata": {},
   "outputs": [],
   "source": [
    "new_folder ='src'\n",
    "if not os.path.exists(new_folder):\n",
    "    os.makedirs(new_folder)"
   ]
  },
  {
   "cell_type": "code",
   "execution_count": null,
   "id": "67a10f6e-b01a-4446-91dc-1341ff754a57",
   "metadata": {},
   "outputs": [],
   "source": [
    "# di = project.new_artifact(name=\"daticomuni\",kind=\"artifact\", path='/daticomuni.zip')"
   ]
  },
  {
   "cell_type": "code",
   "execution_count": null,
   "id": "afe08a01-ab1b-4a1b-84c9-fb0c060fcdb2",
   "metadata": {},
   "outputs": [],
   "source": [
    "di = project.get_artifact('daticomuni')\n",
    "di.key"
   ]
  },
  {
   "cell_type": "code",
   "execution_count": null,
   "id": "a3ffcdcf-f88d-4d87-a641-c4bd506e1c47",
   "metadata": {},
   "outputs": [],
   "source": [
    "%%writefile \"src/convert-all.py\"\n",
    "\n",
    "import pandas as pd\n",
    "from os import path, makedirs\n",
    "import zipfile\n",
    "        \n",
    "file_basepath = \"daticomuni\"\n",
    "\n",
    "def convert_all(project, source_artifact):\n",
    "    data_dir = f\"{file_basepath}/data\"\n",
    "    try:\n",
    "        shutil.rmtree(data_dir)\n",
    "    except:\n",
    "        print(\"Error deleting data dir\")\n",
    "                \n",
    "    # Create the directory for the data\n",
    "    if not path.exists(data_dir):\n",
    "        makedirs(data_dir)\n",
    "\n",
    "    try:\n",
    "        archiveFile =source_artifact.download(data_dir) # this must change in the function\n",
    "        with zipfile.ZipFile(archiveFile, 'r') as zip_ref:\n",
    "            zip_ref.extractall(data_dir)    \n",
    "    except:\n",
    "        print(\"Error downloading data\")\n",
    "        \n",
    "         \n",
    "    for ds_name in [\"azioni\", \"campi\", \"macroambiti\", \"piani\", \"tassonomia\"]:\n",
    "        source_url = data_dir + '/' + ds_name + \".txt\"        \n",
    "        df = pd.read_csv(source_url, encoding=\"windows-1251\", delimiter=\";\")\n",
    "        df.reset_index(drop=True, inplace=True)\n",
    "        project.log_dataitem(ds_name, data=df, kind='table', index=False)        \n",
    "\n",
    "    # comuni: process name and dates\n",
    "    source_url =  data_dir + '/' + \"comuni\" + \".txt\"\n",
    "    df = pd.read_csv(source_url, encoding=\"windows-1251\", delimiter=\";\")\n",
    "    df[\"comune\"] = df[\"NomeOrganizzazione\"].str.replace(\"COMUNE DI \", \"\").str.upper()\n",
    "    df[\"Data_det_assegnazione\"] = pd.to_datetime(df[\"Data_det_assegnazione\"], format=\"%d/%m/%Y %H:%M:%S\", errors=\"ignore\")\n",
    "    df[\"Data_det_revoca\"] = df[\"Data_det_revoca\"].fillna(\"\")\n",
    "    df[\"Data_det_revoca\"] = pd.to_datetime(df[\"Data_det_revoca\"], format=\"%d/%m/%Y %H:%M:%S\", errors=\"ignore\")\n",
    "    df.reset_index(drop=True, inplace=True)\n",
    "    project.log_dataitem(\"comuni\", data=df, kind='table', index=False)\n",
    "\n",
    "    # valutazioni: process dates\n",
    "    source_url =  data_dir + '/' + \"valutazioni\" + \".txt\"\n",
    "    df = pd.read_csv(source_url, encoding=\"windows-1251\", delimiter=\";\")\n",
    "    df[\"data_pub\"] = pd.to_datetime(df[\"data_pub\"], format=\"%d/%m/%Y %H:%M:%S\", errors=\"ignore\")\n",
    "    df.reset_index(drop=True, inplace=True)\n",
    "    project.log_dataitem(\"valutazioni\", data=df, kind='table', index=False)"
   ]
  },
  {
   "cell_type": "code",
   "execution_count": null,
   "id": "6d3e04fd-d321-4d1b-b7e6-ab94fcf0d3af",
   "metadata": {},
   "outputs": [],
   "source": [
    "func_convert_all = project.new_function(name=\"convert_all\",\n",
    "                         kind=\"python\",\n",
    "                         python_version=\"PYTHON3_10\",\n",
    "                         source={\"source\": \"src/convert-all.py\", \"handler\": \"convert_all\"})"
   ]
  },
  {
   "cell_type": "code",
   "execution_count": null,
   "id": "ed3c9001-7910-4f65-a6e8-70f67b72cfe8",
   "metadata": {},
   "outputs": [],
   "source": [
    "run_convert_all = func_convert_all.run(action=\"job\",inputs={\"source_artifact\": di.key},outputs={}, local_execution=False)"
   ]
  },
  {
   "cell_type": "code",
   "execution_count": null,
   "id": "015c113a-0b87-4d8f-9121-c95fe8d89288",
   "metadata": {
    "tags": []
   },
   "outputs": [],
   "source": [
    "%%writefile \"src/convert-aziendali.py\"\n",
    "\n",
    "import pandas as pd\n",
    "from os import path, makedirs\n",
    "import zipfile\n",
    "import numpy as np\n",
    "        \n",
    "file_basepath = \"daticomuni\"\n",
    "\n",
    "def convert_aziendali(project, source_artifact):\n",
    "    converters={\n",
    "        '2024_06_25 PIANI AZIENDALI': {'IDorganizzazione': np.int64, 'ANNUALITA': np.int64, 'Versione': np.int64, 'AnnoCompilazione': np.int64, 'CodiceCampoAzione': np.int64, 'CodiceTassonomiaAzione': np.int64, 'BeneF': np.int64, 'BeneM': np.int64, 'IDdettaglioAccorpamento': np.int64},\n",
    "        'NuovaTassonomia': {},\n",
    "        'T_NuovaTassonomia_DettaglioRev': {},\n",
    "    }\n",
    "\n",
    "    data_dir = f\"{file_basepath}/data\"\n",
    "    try:\n",
    "        shutil.rmtree(data_dir)\n",
    "    except:\n",
    "        print(\"Error deleting data dir\")\n",
    "                \n",
    "    # Create the directory for the data\n",
    "    if not path.exists(data_dir):\n",
    "        makedirs(data_dir)\n",
    "        \n",
    "    try:\n",
    "        archiveFile =source_artifact.download(data_dir) # this must change in the function\n",
    "        with zipfile.ZipFile(archiveFile, 'r') as zip_ref:\n",
    "            zip_ref.extractall(data_dir)    \n",
    "    except:\n",
    "        print(\"Error downloading data\")\n",
    "        \n",
    "    for ds_name in [\"PIANI_AZIENDALI\", \"NuovaTassonomia\", \"T_NuovaTassonomia_DettaglioRev\"]: \n",
    "        source_url = data_dir + '/' + ds_name + \".csv\"\n",
    "        df = pd.read_csv(source_url, encoding=\"windows-1251\", delimiter=\",\")\n",
    "        # df = pd.read_excel(input_data.get(), sheet_name=0, header=0, converters=converters[ds_name])\n",
    "        df.reset_index(drop=True, inplace=True)\n",
    "        project.log_dataitem(ds_name, data=df, kind='table', index=False)        \n",
    "\n"
   ]
  },
  {
   "cell_type": "code",
   "execution_count": null,
   "id": "665e282f-47b8-41a2-b730-7410323bfd23",
   "metadata": {},
   "outputs": [],
   "source": [
    "func_az = project.new_function(name=\"convert_aziendali\",\n",
    "                         kind=\"python\",\n",
    "                         python_version=\"PYTHON3_10\",\n",
    "                         source={\"source\": \"src/convert-aziendali.py\", \"handler\": \"convert_aziendali\"})"
   ]
  },
  {
   "cell_type": "code",
   "execution_count": null,
   "id": "fa9d4e4b-d562-4a01-85f0-8ae3e5d37cdf",
   "metadata": {},
   "outputs": [],
   "source": [
    "run_convert_az = func_az.run(action=\"job\", inputs={\"source_artifact\": di.key}, outputs={}, local_execution=False)"
   ]
  },
  {
   "cell_type": "code",
   "execution_count": null,
   "id": "95c24613-6b3d-4794-8638-d501046d5387",
   "metadata": {},
   "outputs": [],
   "source": [
    "run_convert_az.refresh().status.state"
   ]
  },
  {
   "cell_type": "code",
   "execution_count": null,
   "id": "af973a7b-5a75-46e9-bacb-19d8859f9da9",
   "metadata": {},
   "outputs": [],
   "source": []
  }
 ],
 "metadata": {
  "kernelspec": {
   "display_name": "Python 3 (ipykernel)",
   "language": "python",
   "name": "python3"
  },
  "language_info": {
   "codemirror_mode": {
    "name": "ipython",
    "version": 3
   },
   "file_extension": ".py",
   "mimetype": "text/x-python",
   "name": "python",
   "nbconvert_exporter": "python",
   "pygments_lexer": "ipython3",
   "version": "3.10.11"
  }
 },
 "nbformat": 4,
 "nbformat_minor": 5
}
