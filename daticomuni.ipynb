{
 "cells": [
  {
   "cell_type": "code",
   "execution_count": 1,
   "id": "83cf211a-8093-44e2-b8a8-90c47099293e",
   "metadata": {},
   "outputs": [],
   "source": [
    "import mlrun\n",
    "import os\n",
    "import pandas as pd"
   ]
  },
  {
   "cell_type": "code",
   "execution_count": 2,
   "id": "ae55c27e-629d-4a8b-9411-3faaabf76d04",
   "metadata": {},
   "outputs": [
    {
     "name": "stdout",
     "output_type": "stream",
     "text": [
      "> 2024-07-24 13:43:33,549 [info] Project loaded successfully: {'project_name': 'daticomuni'}\n"
     ]
    }
   ],
   "source": [
    "project = mlrun.get_or_create_project(\"daticomuni\", context=\"./\")"
   ]
  },
  {
   "cell_type": "code",
   "execution_count": 3,
   "id": "eb6e8161-519f-4879-be46-90d9c7b431f4",
   "metadata": {},
   "outputs": [],
   "source": [
    "new_folder = 'src'\n",
    "if not os.path.exists(new_folder):\n",
    "    os.makedirs(new_folder)\n"
   ]
  },
  {
   "cell_type": "code",
   "execution_count": 4,
   "id": "b9eb3414-e964-4b88-83de-a4165bf6f0ed",
   "metadata": {},
   "outputs": [
    {
     "name": "stdout",
     "output_type": "stream",
     "text": [
      "Writing src/convert-all.py\n"
     ]
    }
   ],
   "source": [
    "%%writefile \"src/convert-all.py\"\n",
    "\n",
    "import mlrun\n",
    "import pandas as pd\n",
    "\n",
    "@mlrun.handler()\n",
    "def convert_all(context, source_url_base: str):\n",
    "    # direct processing, no actions required\n",
    "    for ds_name in [\"azioni\", \"campi\", \"macroambiti\", \"piani\", \"tassonomia\"]:\n",
    "        source_url = source_url_base + ds_name + \".txt\"\n",
    "        input_data = mlrun.get_dataitem(source_url)\n",
    "        df = input_data.as_df(format=\"csv\", encoding=\"windows-1251\", delimiter=\";\")\n",
    "        df.reset_index(drop=True, inplace=True)\n",
    "        context.log_dataset(ds_name, df=df, index=False)\n",
    "\n",
    "    # comuni: process name and dates\n",
    "    source_url = source_url_base + \"comuni\" + \".txt\"\n",
    "    input_data = mlrun.get_dataitem(source_url)\n",
    "    df = input_data.as_df(format=\"csv\", encoding=\"windows-1251\", delimiter=\";\")\n",
    "    df[\"comune\"] = df[\"NomeOrganizzazione\"].str.replace(\"COMUNE DI \", \"\").str.upper()\n",
    "    df[\"Data_det_assegnazione\"] = pd.to_datetime(df[\"Data_det_assegnazione\"], format=\"%d/%m/%Y %H:%M:%S\", errors=\"ignore\")\n",
    "    df[\"Data_det_revoca\"] = df[\"Data_det_revoca\"].fillna(\"\")\n",
    "    df[\"Data_det_revoca\"] = pd.to_datetime(df[\"Data_det_revoca\"], format=\"%d/%m/%Y %H:%M:%S\", errors=\"ignore\")\n",
    "    df.reset_index(drop=True, inplace=True)\n",
    "    context.log_dataset(\"comuni\", df=df, index=False)\n",
    "\n",
    "    # valutazioni: process dates\n",
    "    source_url = source_url_base + \"valutazioni\" + \".txt\"\n",
    "    input_data = mlrun.get_dataitem(source_url)\n",
    "    df = input_data.as_df(format=\"csv\", encoding=\"windows-1251\", delimiter=\";\")\n",
    "    df[\"data_pub\"] = pd.to_datetime(df[\"data_pub\"], format=\"%d/%m/%Y %H:%M:%S\", errors=\"ignore\")\n",
    "    df.reset_index(drop=True, inplace=True)\n",
    "    context.log_dataset(\"valutazioni\", df=df, index=False)"
   ]
  },
  {
   "cell_type": "code",
   "execution_count": 5,
   "id": "1d7d52a5-f047-4a30-a828-9c95e849ad5a",
   "metadata": {},
   "outputs": [
    {
     "data": {
      "text/plain": [
       "<mlrun.projects.project.MlrunProject at 0x7bd574793760>"
      ]
     },
     "execution_count": 5,
     "metadata": {},
     "output_type": "execute_result"
    }
   ],
   "source": [
    "project.set_function(\"src/convert-all.py\", \"convert-all\", kind=\"job\", image=\"mlrun/mlrun\", handler=\"convert_all\")\n",
    "project.save()"
   ]
  },
  {
   "cell_type": "code",
   "execution_count": 6,
   "id": "c579c079-0e6d-4d09-9c58-ca4a78f0358b",
   "metadata": {},
   "outputs": [
    {
     "name": "stdout",
     "output_type": "stream",
     "text": [
      "> 2024-07-24 13:43:33,663 [warning] it is recommended to use k8s secret (specify secret_name), specifying the aws_access_key/aws_secret_key directly is unsafe\n",
      "> 2024-07-24 13:43:33,673 [info] Storing function: {'name': 'convert-all-convert-all', 'uid': 'fd6739e49170494f94e8205eaa2b84c7', 'db': 'http://mlrun-api:8080'}\n",
      "> 2024-07-24 13:43:33,778 [info] Job is running in the background, pod: convert-all-convert-all-hp2tj\n"
     ]
    },
    {
     "name": "stderr",
     "output_type": "stream",
     "text": [
      "The clone_target_dir attribute is deprecated in 1.6.2 and will be removed in 1.8.0. Use spec.build.source_code_target_dir instead.\n"
     ]
    },
    {
     "name": "stdout",
     "output_type": "stream",
     "text": [
      "> 2024-07-24 13:43:38,034 [info] To track results use the CLI: {'info_cmd': 'mlrun get run fd6739e49170494f94e8205eaa2b84c7 -p daticomuni', 'logs_cmd': 'mlrun logs fd6739e49170494f94e8205eaa2b84c7 -p daticomuni'}\n",
      "> 2024-07-24 13:43:38,035 [info] Run execution finished: {'status': 'completed', 'name': 'convert-all-convert-all'}\n"
     ]
    },
    {
     "data": {
      "text/html": [
       "<style>\n",
       ".dictlist {\n",
       "  background-color: #4EC64B;\n",
       "  text-align: center;\n",
       "  margin: 4px;\n",
       "  border-radius: 3px; padding: 0px 3px 1px 3px; display: inline-block;}\n",
       ".artifact {\n",
       "  cursor: pointer;\n",
       "  background-color: #4EC64B;\n",
       "  text-align: left;\n",
       "  margin: 4px; border-radius: 3px; padding: 0px 3px 1px 3px; display: inline-block;\n",
       "}\n",
       "div.block.hidden {\n",
       "  display: none;\n",
       "}\n",
       ".clickable {\n",
       "  cursor: pointer;\n",
       "}\n",
       ".ellipsis {\n",
       "  display: inline-block;\n",
       "  max-width: 60px;\n",
       "  white-space: nowrap;\n",
       "  overflow: hidden;\n",
       "  text-overflow: ellipsis;\n",
       "}\n",
       ".master-wrapper {\n",
       "  display: flex;\n",
       "  flex-flow: row nowrap;\n",
       "  justify-content: flex-start;\n",
       "  align-items: stretch;\n",
       "}\n",
       ".master-tbl {\n",
       "  flex: 3\n",
       "}\n",
       ".master-wrapper > div {\n",
       "  margin: 4px;\n",
       "  padding: 10px;\n",
       "}\n",
       "iframe.fileview {\n",
       "  border: 0 none;\n",
       "  height: 100%;\n",
       "  width: 100%;\n",
       "  white-space: pre-wrap;\n",
       "}\n",
       ".pane-header-title {\n",
       "  width: 80%;\n",
       "  font-weight: 500;\n",
       "}\n",
       ".pane-header {\n",
       "  line-height: 1;\n",
       "  background-color: #4EC64B;\n",
       "  padding: 3px;\n",
       "}\n",
       ".pane-header .close {\n",
       "  font-size: 20px;\n",
       "  font-weight: 700;\n",
       "  float: right;\n",
       "  margin-top: -5px;\n",
       "}\n",
       ".master-wrapper .right-pane {\n",
       "  border: 1px inset silver;\n",
       "  width: 40%;\n",
       "  min-height: 300px;\n",
       "  flex: 3\n",
       "  min-width: 500px;\n",
       "}\n",
       ".master-wrapper * {\n",
       "  box-sizing: border-box;\n",
       "}\n",
       "</style><script>\n",
       "function copyToClipboard(fld) {\n",
       "    if (document.queryCommandSupported && document.queryCommandSupported('copy')) {\n",
       "        var textarea = document.createElement('textarea');\n",
       "        textarea.textContent = fld.innerHTML;\n",
       "        textarea.style.position = 'fixed';\n",
       "        document.body.appendChild(textarea);\n",
       "        textarea.select();\n",
       "\n",
       "        try {\n",
       "            return document.execCommand('copy'); // Security exception may be thrown by some browsers.\n",
       "        } catch (ex) {\n",
       "\n",
       "        } finally {\n",
       "            document.body.removeChild(textarea);\n",
       "        }\n",
       "    }\n",
       "}\n",
       "function expandPanel(el) {\n",
       "  const panelName = \"#\" + el.getAttribute('paneName');\n",
       "  console.log(el.title);\n",
       "\n",
       "  document.querySelector(panelName + \"-title\").innerHTML = el.title\n",
       "  iframe = document.querySelector(panelName + \"-body\");\n",
       "\n",
       "  const tblcss = `<style> body { font-family: Arial, Helvetica, sans-serif;}\n",
       "    #csv { margin-bottom: 15px; }\n",
       "    #csv table { border-collapse: collapse;}\n",
       "    #csv table td { padding: 4px 8px; border: 1px solid silver;} </style>`;\n",
       "\n",
       "  function csvToHtmlTable(str) {\n",
       "    return '<div id=\"csv\"><table><tr><td>' +  str.replace(/[\\n\\r]+$/g, '').replace(/[\\n\\r]+/g, '</td></tr><tr><td>')\n",
       "      .replace(/,/g, '</td><td>') + '</td></tr></table></div>';\n",
       "  }\n",
       "\n",
       "  function reqListener () {\n",
       "    if (el.title.endsWith(\".csv\")) {\n",
       "      iframe.setAttribute(\"srcdoc\", tblcss + csvToHtmlTable(this.responseText));\n",
       "    } else {\n",
       "      iframe.setAttribute(\"srcdoc\", this.responseText);\n",
       "    }\n",
       "    console.log(this.responseText);\n",
       "  }\n",
       "\n",
       "  const oReq = new XMLHttpRequest();\n",
       "  oReq.addEventListener(\"load\", reqListener);\n",
       "  oReq.open(\"GET\", el.title);\n",
       "  oReq.send();\n",
       "\n",
       "\n",
       "  //iframe.src = el.title;\n",
       "  const resultPane = document.querySelector(panelName + \"-pane\");\n",
       "  if (resultPane.classList.contains(\"hidden\")) {\n",
       "    resultPane.classList.remove(\"hidden\");\n",
       "  }\n",
       "}\n",
       "function closePanel(el) {\n",
       "  const panelName = \"#\" + el.getAttribute('paneName')\n",
       "  const resultPane = document.querySelector(panelName + \"-pane\");\n",
       "  if (!resultPane.classList.contains(\"hidden\")) {\n",
       "    resultPane.classList.add(\"hidden\");\n",
       "  }\n",
       "}\n",
       "\n",
       "</script>\n",
       "<div class=\"master-wrapper\">\n",
       "  <div class=\"block master-tbl\"><div>\n",
       "<style scoped>\n",
       "    .dataframe tbody tr th:only-of-type {\n",
       "        vertical-align: middle;\n",
       "    }\n",
       "\n",
       "    .dataframe tbody tr th {\n",
       "        vertical-align: top;\n",
       "    }\n",
       "\n",
       "    .dataframe thead th {\n",
       "        text-align: right;\n",
       "    }\n",
       "</style>\n",
       "<table border=\"1\" class=\"dataframe\">\n",
       "  <thead>\n",
       "    <tr style=\"text-align: right;\">\n",
       "      <th>project</th>\n",
       "      <th>uid</th>\n",
       "      <th>iter</th>\n",
       "      <th>start</th>\n",
       "      <th>state</th>\n",
       "      <th>name</th>\n",
       "      <th>labels</th>\n",
       "      <th>inputs</th>\n",
       "      <th>parameters</th>\n",
       "      <th>results</th>\n",
       "      <th>artifacts</th>\n",
       "    </tr>\n",
       "  </thead>\n",
       "  <tbody>\n",
       "    <tr>\n",
       "      <td>daticomuni</td>\n",
       "      <td><div title=\"fd6739e49170494f94e8205eaa2b84c7\">...2b84c7</div></td>\n",
       "      <td>0</td>\n",
       "      <td>Jul 24 13:43:35</td>\n",
       "      <td>completed</td>\n",
       "      <td>convert-all-convert-all</td>\n",
       "      <td><div class=\"dictlist\">v3io_user=raman</div><div class=\"dictlist\">kind=job</div><div class=\"dictlist\">owner=raman</div><div class=\"dictlist\">mlrun/client_version=1.6.2-rc1</div><div class=\"dictlist\">mlrun/client_python_version=3.9.13</div><div class=\"dictlist\">host=convert-all-convert-all-hp2tj</div></td>\n",
       "      <td></td>\n",
       "      <td><div class=\"dictlist\">source_url_base=s3://datalake/projects/daticomuni/base/</div></td>\n",
       "      <td></td>\n",
       "      <td><div title=\"s3://datalake/projects/daticomuni/artifacts/convert-all-convert-all/0/azioni.parquet\">azioni</div><div title=\"s3://datalake/projects/daticomuni/artifacts/convert-all-convert-all/0/campi.parquet\">campi</div><div title=\"s3://datalake/projects/daticomuni/artifacts/convert-all-convert-all/0/macroambiti.parquet\">macroambiti</div><div title=\"s3://datalake/projects/daticomuni/artifacts/convert-all-convert-all/0/piani.parquet\">piani</div><div title=\"s3://datalake/projects/daticomuni/artifacts/convert-all-convert-all/0/tassonomia.parquet\">tassonomia</div><div title=\"s3://datalake/projects/daticomuni/artifacts/convert-all-convert-all/0/comuni.parquet\">comuni</div><div title=\"s3://datalake/projects/daticomuni/artifacts/convert-all-convert-all/0/valutazioni.parquet\">valutazioni</div></td>\n",
       "    </tr>\n",
       "  </tbody>\n",
       "</table>\n",
       "</div></div>\n",
       "  <div id=\"result9e49bca6-pane\" class=\"right-pane block hidden\">\n",
       "    <div class=\"pane-header\">\n",
       "      <span id=\"result9e49bca6-title\" class=\"pane-header-title\">Title</span>\n",
       "      <span onclick=\"closePanel(this)\" paneName=\"result9e49bca6\" class=\"close clickable\">&times;</span>\n",
       "    </div>\n",
       "    <iframe class=\"fileview\" id=\"result9e49bca6-body\"></iframe>\n",
       "  </div>\n",
       "</div>\n"
      ],
      "text/plain": [
       "<IPython.core.display.HTML object>"
      ]
     },
     "metadata": {},
     "output_type": "display_data"
    },
    {
     "name": "stdout",
     "output_type": "stream",
     "text": [
      "\n"
     ]
    },
    {
     "data": {
      "text/html": [
       "<b> > to track results use the .show() or .logs() methods </b>"
      ],
      "text/plain": [
       "<IPython.core.display.HTML object>"
      ]
     },
     "metadata": {},
     "output_type": "display_data"
    },
    {
     "name": "stdout",
     "output_type": "stream",
     "text": [
      "> 2024-07-24 13:43:43,113 [info] Run execution finished: {'status': 'completed', 'name': 'convert-all-convert-all'}\n"
     ]
    },
    {
     "data": {
      "text/plain": [
       "<mlrun.model.RunObject at 0x7bd4f8a54670>"
      ]
     },
     "execution_count": 6,
     "metadata": {},
     "output_type": "execute_result"
    }
   ],
   "source": [
    "source_url_base = \"s3://datalake/projects/daticomuni/base/\"\n",
    "project.run_function(\"convert-all\", params={\"source_url_base\": source_url_base})"
   ]
  },
  {
   "cell_type": "code",
   "execution_count": 7,
   "id": "094ebe76-083e-4455-9db4-a5f88b7bca8e",
   "metadata": {},
   "outputs": [
    {
     "name": "stdout",
     "output_type": "stream",
     "text": [
      "Overwriting src/convert-aziendali.py\n"
     ]
    }
   ],
   "source": [
    "%%writefile \"src/convert-aziendali.py\"\n",
    "\n",
    "import mlrun\n",
    "import pandas as pd\n",
    "import numpy as np\n",
    "\n",
    "@mlrun.handler()\n",
    "def convert_aziendali(context, source_url_base: str):\n",
    "    converters={\n",
    "        '2024_06_25 PIANI AZIENDALI': {'IDorganizzazione': np.int64, 'ANNUALITA': np.int64, 'Versione': np.int64, 'AnnoCompilazione': np.int64, 'CodiceCampoAzione': np.int64, 'CodiceTassonomiaAzione': np.int64, 'BeneF': np.int64, 'BeneM': np.int64, 'IDdettaglioAccorpamento': np.int64},\n",
    "        'NuovaTassonomia': {},\n",
    "        'T_NuovaTassonomia_DettaglioRev': {},\n",
    "    }\n",
    "\n",
    "    for ds_name in [\"2024_06_25 PIANI AZIENDALI\", \"NuovaTassonomia\", \"T_NuovaTassonomia_DettaglioRev\"]:\n",
    "        source_url = source_url_base + ds_name + \".xlsx\"\n",
    "        input_data = mlrun.get_dataitem(source_url)\n",
    "        df = pd.read_excel(input_data.get(), sheet_name=0, header=0, converters=converters[ds_name])\n",
    "        df.reset_index(drop=True, inplace=True)\n",
    "        context.log_dataset(ds_name, df=df, index=False)"
   ]
  },
  {
   "cell_type": "code",
   "execution_count": 8,
   "id": "499beb91-c1a1-454b-945b-a27b63400380",
   "metadata": {},
   "outputs": [
    {
     "data": {
      "text/plain": [
       "<mlrun.projects.project.MlrunProject at 0x7bd574793760>"
      ]
     },
     "execution_count": 8,
     "metadata": {},
     "output_type": "execute_result"
    }
   ],
   "source": [
    "project.set_function(\"src/convert-aziendali.py\", \"convert-aziendali\", kind=\"job\", image=\"mlrun/mlrun\", handler=\"convert_aziendali\", requirements=[\"openpyxl\"])\n",
    "project.save()"
   ]
  },
  {
   "cell_type": "code",
   "execution_count": 9,
   "id": "84687383-ba9e-422f-b765-554e042e5163",
   "metadata": {},
   "outputs": [
    {
     "name": "stdout",
     "output_type": "stream",
     "text": [
      "> 2024-07-24 13:43:43,188 [warning] it is recommended to use k8s secret (specify secret_name), specifying the aws_access_key/aws_secret_key directly is unsafe\n",
      "> 2024-07-24 13:43:43,202 [info] Storing function: {'name': 'convert-aziendali-convert-aziendali', 'uid': 'f0db7d89576a4f5ebd05deed98fb3e2d', 'db': 'http://mlrun-api:8080'}\n"
     ]
    },
    {
     "name": "stderr",
     "output_type": "stream",
     "text": [
      "The clone_target_dir attribute is deprecated in 1.6.2 and will be removed in 1.8.0. Use spec.build.source_code_target_dir instead.\n",
      "Passing bytes to 'read_excel' is deprecated and will be removed in a future version. To read from a byte string, wrap it in a `BytesIO` object.\n",
      "Passing bytes to 'read_excel' is deprecated and will be removed in a future version. To read from a byte string, wrap it in a `BytesIO` object.\n",
      "Converting input from bool to <class 'numpy.uint8'> for compatibility.\n",
      "Passing bytes to 'read_excel' is deprecated and will be removed in a future version. To read from a byte string, wrap it in a `BytesIO` object.\n"
     ]
    },
    {
     "data": {
      "text/html": [
       "<style>\n",
       ".dictlist {\n",
       "  background-color: #4EC64B;\n",
       "  text-align: center;\n",
       "  margin: 4px;\n",
       "  border-radius: 3px; padding: 0px 3px 1px 3px; display: inline-block;}\n",
       ".artifact {\n",
       "  cursor: pointer;\n",
       "  background-color: #4EC64B;\n",
       "  text-align: left;\n",
       "  margin: 4px; border-radius: 3px; padding: 0px 3px 1px 3px; display: inline-block;\n",
       "}\n",
       "div.block.hidden {\n",
       "  display: none;\n",
       "}\n",
       ".clickable {\n",
       "  cursor: pointer;\n",
       "}\n",
       ".ellipsis {\n",
       "  display: inline-block;\n",
       "  max-width: 60px;\n",
       "  white-space: nowrap;\n",
       "  overflow: hidden;\n",
       "  text-overflow: ellipsis;\n",
       "}\n",
       ".master-wrapper {\n",
       "  display: flex;\n",
       "  flex-flow: row nowrap;\n",
       "  justify-content: flex-start;\n",
       "  align-items: stretch;\n",
       "}\n",
       ".master-tbl {\n",
       "  flex: 3\n",
       "}\n",
       ".master-wrapper > div {\n",
       "  margin: 4px;\n",
       "  padding: 10px;\n",
       "}\n",
       "iframe.fileview {\n",
       "  border: 0 none;\n",
       "  height: 100%;\n",
       "  width: 100%;\n",
       "  white-space: pre-wrap;\n",
       "}\n",
       ".pane-header-title {\n",
       "  width: 80%;\n",
       "  font-weight: 500;\n",
       "}\n",
       ".pane-header {\n",
       "  line-height: 1;\n",
       "  background-color: #4EC64B;\n",
       "  padding: 3px;\n",
       "}\n",
       ".pane-header .close {\n",
       "  font-size: 20px;\n",
       "  font-weight: 700;\n",
       "  float: right;\n",
       "  margin-top: -5px;\n",
       "}\n",
       ".master-wrapper .right-pane {\n",
       "  border: 1px inset silver;\n",
       "  width: 40%;\n",
       "  min-height: 300px;\n",
       "  flex: 3\n",
       "  min-width: 500px;\n",
       "}\n",
       ".master-wrapper * {\n",
       "  box-sizing: border-box;\n",
       "}\n",
       "</style><script>\n",
       "function copyToClipboard(fld) {\n",
       "    if (document.queryCommandSupported && document.queryCommandSupported('copy')) {\n",
       "        var textarea = document.createElement('textarea');\n",
       "        textarea.textContent = fld.innerHTML;\n",
       "        textarea.style.position = 'fixed';\n",
       "        document.body.appendChild(textarea);\n",
       "        textarea.select();\n",
       "\n",
       "        try {\n",
       "            return document.execCommand('copy'); // Security exception may be thrown by some browsers.\n",
       "        } catch (ex) {\n",
       "\n",
       "        } finally {\n",
       "            document.body.removeChild(textarea);\n",
       "        }\n",
       "    }\n",
       "}\n",
       "function expandPanel(el) {\n",
       "  const panelName = \"#\" + el.getAttribute('paneName');\n",
       "  console.log(el.title);\n",
       "\n",
       "  document.querySelector(panelName + \"-title\").innerHTML = el.title\n",
       "  iframe = document.querySelector(panelName + \"-body\");\n",
       "\n",
       "  const tblcss = `<style> body { font-family: Arial, Helvetica, sans-serif;}\n",
       "    #csv { margin-bottom: 15px; }\n",
       "    #csv table { border-collapse: collapse;}\n",
       "    #csv table td { padding: 4px 8px; border: 1px solid silver;} </style>`;\n",
       "\n",
       "  function csvToHtmlTable(str) {\n",
       "    return '<div id=\"csv\"><table><tr><td>' +  str.replace(/[\\n\\r]+$/g, '').replace(/[\\n\\r]+/g, '</td></tr><tr><td>')\n",
       "      .replace(/,/g, '</td><td>') + '</td></tr></table></div>';\n",
       "  }\n",
       "\n",
       "  function reqListener () {\n",
       "    if (el.title.endsWith(\".csv\")) {\n",
       "      iframe.setAttribute(\"srcdoc\", tblcss + csvToHtmlTable(this.responseText));\n",
       "    } else {\n",
       "      iframe.setAttribute(\"srcdoc\", this.responseText);\n",
       "    }\n",
       "    console.log(this.responseText);\n",
       "  }\n",
       "\n",
       "  const oReq = new XMLHttpRequest();\n",
       "  oReq.addEventListener(\"load\", reqListener);\n",
       "  oReq.open(\"GET\", el.title);\n",
       "  oReq.send();\n",
       "\n",
       "\n",
       "  //iframe.src = el.title;\n",
       "  const resultPane = document.querySelector(panelName + \"-pane\");\n",
       "  if (resultPane.classList.contains(\"hidden\")) {\n",
       "    resultPane.classList.remove(\"hidden\");\n",
       "  }\n",
       "}\n",
       "function closePanel(el) {\n",
       "  const panelName = \"#\" + el.getAttribute('paneName')\n",
       "  const resultPane = document.querySelector(panelName + \"-pane\");\n",
       "  if (!resultPane.classList.contains(\"hidden\")) {\n",
       "    resultPane.classList.add(\"hidden\");\n",
       "  }\n",
       "}\n",
       "\n",
       "</script>\n",
       "<div class=\"master-wrapper\">\n",
       "  <div class=\"block master-tbl\"><div>\n",
       "<style scoped>\n",
       "    .dataframe tbody tr th:only-of-type {\n",
       "        vertical-align: middle;\n",
       "    }\n",
       "\n",
       "    .dataframe tbody tr th {\n",
       "        vertical-align: top;\n",
       "    }\n",
       "\n",
       "    .dataframe thead th {\n",
       "        text-align: right;\n",
       "    }\n",
       "</style>\n",
       "<table border=\"1\" class=\"dataframe\">\n",
       "  <thead>\n",
       "    <tr style=\"text-align: right;\">\n",
       "      <th>project</th>\n",
       "      <th>uid</th>\n",
       "      <th>iter</th>\n",
       "      <th>start</th>\n",
       "      <th>state</th>\n",
       "      <th>name</th>\n",
       "      <th>labels</th>\n",
       "      <th>inputs</th>\n",
       "      <th>parameters</th>\n",
       "      <th>results</th>\n",
       "      <th>artifacts</th>\n",
       "    </tr>\n",
       "  </thead>\n",
       "  <tbody>\n",
       "    <tr>\n",
       "      <td>daticomuni</td>\n",
       "      <td><div title=\"f0db7d89576a4f5ebd05deed98fb3e2d\">...fb3e2d</div></td>\n",
       "      <td>0</td>\n",
       "      <td>Jul 24 13:43:43</td>\n",
       "      <td>completed</td>\n",
       "      <td>convert-aziendali-convert-aziendali</td>\n",
       "      <td><div class=\"dictlist\">v3io_user=raman</div><div class=\"dictlist\">kind=local</div><div class=\"dictlist\">owner=raman</div><div class=\"dictlist\">host=jupyter-raman-testraman-6cbb8f7d55-b6trl</div></td>\n",
       "      <td></td>\n",
       "      <td><div class=\"dictlist\">source_url_base=s3://datalake/projects/daticomuni/base/</div></td>\n",
       "      <td></td>\n",
       "      <td><div title=\"s3://datalake/projects/daticomuni/artifacts/convert-aziendali-convert-aziendali/0/2024_06_25 PIANI AZIENDALI.parquet\">2024_06_25 PIANI AZIENDALI</div><div title=\"s3://datalake/projects/daticomuni/artifacts/convert-aziendali-convert-aziendali/0/NuovaTassonomia.parquet\">NuovaTassonomia</div><div title=\"s3://datalake/projects/daticomuni/artifacts/convert-aziendali-convert-aziendali/0/T_NuovaTassonomia_DettaglioRev.parquet\">T_NuovaTassonomia_DettaglioRev</div></td>\n",
       "    </tr>\n",
       "  </tbody>\n",
       "</table>\n",
       "</div></div>\n",
       "  <div id=\"result6608910d-pane\" class=\"right-pane block hidden\">\n",
       "    <div class=\"pane-header\">\n",
       "      <span id=\"result6608910d-title\" class=\"pane-header-title\">Title</span>\n",
       "      <span onclick=\"closePanel(this)\" paneName=\"result6608910d\" class=\"close clickable\">&times;</span>\n",
       "    </div>\n",
       "    <iframe class=\"fileview\" id=\"result6608910d-body\"></iframe>\n",
       "  </div>\n",
       "</div>\n"
      ],
      "text/plain": [
       "<IPython.core.display.HTML object>"
      ]
     },
     "metadata": {},
     "output_type": "display_data"
    },
    {
     "name": "stdout",
     "output_type": "stream",
     "text": [
      "\n"
     ]
    },
    {
     "data": {
      "text/html": [
       "<b> > to track results use the .show() or .logs() methods </b>"
      ],
      "text/plain": [
       "<IPython.core.display.HTML object>"
      ]
     },
     "metadata": {},
     "output_type": "display_data"
    },
    {
     "name": "stdout",
     "output_type": "stream",
     "text": [
      "> 2024-07-24 13:43:56,629 [info] Run execution finished: {'status': 'completed', 'name': 'convert-aziendali-convert-aziendali'}\n"
     ]
    },
    {
     "data": {
      "text/plain": [
       "<mlrun.model.RunObject at 0x7bd54982f0a0>"
      ]
     },
     "execution_count": 9,
     "metadata": {},
     "output_type": "execute_result"
    }
   ],
   "source": [
    "source_url_base = \"s3://datalake/projects/daticomuni/base/\"\n",
    "project.run_function(\"convert-aziendali\", params={\"source_url_base\": source_url_base}, local=True)"
   ]
  }
 ],
 "metadata": {
  "kernelspec": {
   "display_name": "Python 3 (ipykernel)",
   "language": "python",
   "name": "python3"
  },
  "language_info": {
   "codemirror_mode": {
    "name": "ipython",
    "version": 3
   },
   "file_extension": ".py",
   "mimetype": "text/x-python",
   "name": "python",
   "nbconvert_exporter": "python",
   "pygments_lexer": "ipython3",
   "version": "3.9.13"
  }
 },
 "nbformat": 4,
 "nbformat_minor": 5
}
